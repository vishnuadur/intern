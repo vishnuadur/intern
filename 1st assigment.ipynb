{
 "cells": [
  {
   "cell_type": "code",
   "execution_count": null,
   "id": "3b2a6bdd",
   "metadata": {},
   "outputs": [],
   "source": [
    "# 1) C, 2)C ,3)C ,4)1, 5)D, 6)C,7)A, 8)C, 9)A&C, 10)A&B\n"
   ]
  },
  {
   "cell_type": "code",
   "execution_count": 11,
   "id": "c4ed6cf1",
   "metadata": {},
   "outputs": [
    {
     "name": "stdout",
     "output_type": "stream",
     "text": [
      "Enter a number: 5\n"
     ]
    },
    {
     "data": {
      "text/plain": [
       "120"
      ]
     },
     "execution_count": 11,
     "metadata": {},
     "output_type": "execute_result"
    }
   ],
   "source": [
    " # program to find the factorial of a number\n",
    "def factorial(x):\n",
    "    if x == 1:\n",
    "        return 1\n",
    "    else:\n",
    "        return (x * factorial(x-1))\n",
    "\n",
    "num = int(input(\"Enter a number: \"))\n",
    "\n",
    "factorial(num)"
   ]
  },
  {
   "cell_type": "code",
   "execution_count": 33,
   "id": "658e97ac",
   "metadata": {},
   "outputs": [
    {
     "name": "stdout",
     "output_type": "stream",
     "text": [
      "Enter a number: 2\n",
      "2 is a prime number\n"
     ]
    }
   ],
   "source": [
    "# a number is prime or composite.\n",
    "num = int(input(\"Enter a number: \"))\n",
    "\n",
    "\n",
    "for i in range(2, int(num/2)+1):\n",
    "     if (num % i) == 0:\n",
    "        print(num, \"is Composite\")\n",
    "        break\n",
    "else:\n",
    "        print(num, \"is a prime number\")\n",
    "       \n",
    "    "
   ]
  },
  {
   "cell_type": "code",
   "execution_count": 46,
   "id": "099be2c6",
   "metadata": {},
   "outputs": [
    {
     "name": "stdout",
     "output_type": "stream",
     "text": [
      "Hyp = 5.0\n",
      "Adj = 4.0\n",
      "Oppo = 3.0\n"
     ]
    }
   ],
   "source": [
    "# Python program to get the third side of right-angled triangle from two given sides\n",
    "def sides(oppo,adj,hyp):\n",
    "        if oppo == str(\"x\"):\n",
    "            return (\"Oppo = \" + str(((hyp**2) - (adj**2))**0.5))\n",
    "        elif adj == str(\"x\"):\n",
    "            return (\"Adj = \" + str(((hyp**2) - (oppo**2))**0.5))\n",
    "        elif hyp == str(\"x\"):\n",
    "            return (\"Hyp = \" + str(((oppo**2) + (adj**2))**0.5))\n",
    "        else:\n",
    "            return\n",
    "    \n",
    "print(sides(3,4,'x'))\n",
    "print(sides(3,'x',5))\n",
    "print(sides('x',4,5))"
   ]
  },
  {
   "cell_type": "code",
   "execution_count": 49,
   "id": "38254f07",
   "metadata": {},
   "outputs": [
    {
     "name": "stdout",
     "output_type": "stream",
     "text": [
      "Enter the string: vishnu the great\n",
      "{'v': 1, 'i': 1, 's': 1, 'h': 2, 'n': 1, 'u': 1, ' ': 2, 't': 2, 'e': 2, 'g': 1, 'r': 1, 'a': 1}\n"
     ]
    }
   ],
   "source": [
    "#python program to print the frequency of each of the characters present in a given string\n",
    "str1 = input (\"Enter the string: \")\n",
    "res={}\n",
    "for c in str1:\n",
    "    res[c] = res.get(c, 0) + 1\n",
    "print(res)"
   ]
  },
  {
   "cell_type": "code",
   "execution_count": 50,
   "id": "a54c3939",
   "metadata": {},
   "outputs": [
    {
     "name": "stdout",
     "output_type": "stream",
     "text": [
      "Enter the string: madam\n",
      "The string is a palindrome.\n"
     ]
    }
   ],
   "source": [
    "#given string is palindrome or not.\n",
    "my_str = input (\"Enter the string: \")\n",
    "my_str = my_str.casefold()\n",
    "rev_str = reversed(my_str)\n",
    "if list(my_str) == list(rev_str):\n",
    "   print(\"The string is a palindrome.\")\n",
    "else:\n",
    "   print(\"The string is not a palindrome.\")"
   ]
  },
  {
   "cell_type": "code",
   "execution_count": 51,
   "id": "d477a75c",
   "metadata": {},
   "outputs": [
    {
     "data": {
      "text/plain": [
       "24"
      ]
     },
     "execution_count": 51,
     "metadata": {},
     "output_type": "execute_result"
    }
   ],
   "source": [
    "\n",
    "6<<2 "
   ]
  },
  {
   "cell_type": "code",
   "execution_count": 55,
   "id": "b7ef5f2a",
   "metadata": {},
   "outputs": [
    {
     "data": {
      "text/plain": [
       "6"
      ]
     },
     "execution_count": 55,
     "metadata": {},
     "output_type": "execute_result"
    }
   ],
   "source": [
    "6|2"
   ]
  },
  {
   "cell_type": "code",
   "execution_count": null,
   "id": "beb41596",
   "metadata": {},
   "outputs": [],
   "source": []
  }
 ],
 "metadata": {
  "kernelspec": {
   "display_name": "Python 3 (ipykernel)",
   "language": "python",
   "name": "python3"
  },
  "language_info": {
   "codemirror_mode": {
    "name": "ipython",
    "version": 3
   },
   "file_extension": ".py",
   "mimetype": "text/x-python",
   "name": "python",
   "nbconvert_exporter": "python",
   "pygments_lexer": "ipython3",
   "version": "3.9.12"
  }
 },
 "nbformat": 4,
 "nbformat_minor": 5
}
